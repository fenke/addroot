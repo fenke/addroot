{
 "cells": [
  {
   "cell_type": "markdown",
   "metadata": {},
   "source": [
    "# addroot\n",
    "\n",
    "> Adds the project's root to the python interpreter import path"
   ]
  },
  {
   "cell_type": "code",
   "execution_count": null,
   "metadata": {},
   "outputs": [],
   "source": [
    "#| default_exp addroot"
   ]
  },
  {
   "cell_type": "code",
   "execution_count": null,
   "metadata": {},
   "outputs": [],
   "source": [
    "#| hide\n",
    "from nbdev.showdoc import *"
   ]
  },
  {
   "cell_type": "code",
   "execution_count": null,
   "metadata": {},
   "outputs": [],
   "source": []
  },
  {
   "cell_type": "code",
   "execution_count": null,
   "metadata": {},
   "outputs": [],
   "source": [
    "#| export\n",
    "\n",
    "import os, sys\n",
    "from pathlib import Path\n",
    "\n",
    "project_root_path = None"
   ]
  },
  {
   "cell_type": "code",
   "execution_count": null,
   "metadata": {},
   "outputs": [],
   "source": [
    "#| export\n",
    "parent, current = os.path.split(Path(os.getcwd()).resolve())\n",
    "\n",
    "while len(current)>0:\n",
    "    print(parent, current)\n",
    "    if os.path.isdir(os.path.join(parent, \".git\")):\n",
    "        project_root_path = parent\n",
    "        os.chdir(project_root_path)\n",
    "        break\n",
    "\n",
    "    parent, current = os.path.split(parent)\n",
    "    "
   ]
  },
  {
   "cell_type": "code",
   "execution_count": null,
   "metadata": {},
   "outputs": [],
   "source": [
    "#| export\n",
    "if project_root_path is not None:\n",
    "\n",
    "    # Add module path to system path.\n",
    "    if project_root_path not in sys.path:\n",
    "        sys.path.append(project_root_path)\n",
    "        print(f\"Added {project_root_path} to PATH\")"
   ]
  },
  {
   "cell_type": "code",
   "execution_count": null,
   "metadata": {},
   "outputs": [],
   "source": []
  },
  {
   "cell_type": "code",
   "execution_count": null,
   "metadata": {},
   "outputs": [],
   "source": [
    "#| hide\n",
    "import nbdev; nbdev.nbdev_export()"
   ]
  }
 ],
 "metadata": {
  "kernelspec": {
   "display_name": "python3",
   "language": "python",
   "name": "python3"
  }
 },
 "nbformat": 4,
 "nbformat_minor": 4
}
